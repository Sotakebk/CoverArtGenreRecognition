{
  "nbformat": 4,
  "nbformat_minor": 0,
  "metadata": {
    "colab": {
      "name": "Data cleanup and statistics",
      "provenance": [],
      "collapsed_sections": [
        "KG0Hf7lIgnrz",
        "0ZgZLQNvgseL",
        "VeVKS_X4g5cQ"
      ]
    },
    "kernelspec": {
      "name": "python3",
      "display_name": "Python 3"
    },
    "language_info": {
      "name": "python"
    }
  },
  "cells": [
    {
      "cell_type": "markdown",
      "source": [
        "# Data cleanup and statistics"
      ],
      "metadata": {
        "id": "jZutONeUgf8f"
      }
    },
    {
      "cell_type": "markdown",
      "source": [
        "## Setup"
      ],
      "metadata": {
        "id": "KG0Hf7lIgnrz"
      }
    },
    {
      "cell_type": "markdown",
      "source": [
        "Update dependencies"
      ],
      "metadata": {
        "id": "v2UBAffdpaAn"
      }
    },
    {
      "cell_type": "code",
      "source": [
        "is_colab = False\n",
        "try:\n",
        "  import google.colab\n",
        "  !pip install matplotlib --upgrade\n",
        "  !pip install iterative-stratification\n",
        "  is_colab = True\n",
        "except:\n",
        "  print('not on Google colab')"
      ],
      "metadata": {
        "id": "yszzjOEHpXwo"
      },
      "execution_count": null,
      "outputs": []
    },
    {
      "cell_type": "markdown",
      "source": [
        "Load data"
      ],
      "metadata": {
        "id": "XSRDEngAUZId"
      }
    },
    {
      "cell_type": "code",
      "execution_count": null,
      "metadata": {
        "id": "VruiMoZFy13x"
      },
      "outputs": [],
      "source": [
        "df = object()\n",
        "import pandas as pd \n",
        "\n",
        "try:\n",
        "  from google.colab import drive\n",
        "  drive.mount('/content/gdrive')\n",
        "  df=pd.read_csv('gdrive/MyDrive/valid_data_list.csv')\n",
        "except:\n",
        "  df=pd.read_csv('valid_data_list.csv');\n",
        "\n",
        "df['HasCoverArt'] = df.apply(lambda row: 1 if (row['CoverArtID'] != 0) else 0, axis=1)\n",
        "df.head()"
      ]
    },
    {
      "cell_type": "markdown",
      "source": [
        "## Statistics"
      ],
      "metadata": {
        "id": "0ZgZLQNvgseL"
      }
    },
    {
      "cell_type": "markdown",
      "source": [
        "Explore the dataset"
      ],
      "metadata": {
        "id": "rWbeafltWKOj"
      }
    },
    {
      "cell_type": "code",
      "source": [
        "import numpy as np\n",
        "import matplotlib.pyplot as plt\n",
        "import seaborn as sns"
      ],
      "metadata": {
        "id": "ItbWW4gHKKJM"
      },
      "execution_count": null,
      "outputs": []
    },
    {
      "cell_type": "code",
      "source": [
        "def GenreCountByHasCoverArt(df, logarithmic=True):\n",
        "    sns.set(rc={'figure.figsize':(24, 8)})\n",
        "    sns.color_palette(\"rocket\", as_cmap=False)\n",
        "    if logarithmic == True:\n",
        "        plt.yscale('log')\n",
        "        plt.xscale('linear')\n",
        "    else:\n",
        "        plt.yscale('linear')\n",
        "        plt.xscale('linear')\n",
        "    ax = sns.countplot(x='GenreCount', data=df, hue='HasCoverArt', palette=sns.color_palette('rocket', n_colors=2))\n",
        "    for p in ax.patches:\n",
        "        ax.annotate('{:.0f}'.format(p.get_height()), (p.get_x()+0.15, p.get_height()+1))\n",
        "    plt.show()\n",
        "\n",
        "def ClassCount(df, logarithmic=True):\n",
        "    sns.set(rc={'figure.figsize':(24, 8)})\n",
        "    sns.color_palette(\"rocket\", as_cmap=False)\n",
        "    if logarithmic == True:\n",
        "        plt.yscale('log')\n",
        "        plt.xscale('linear')\n",
        "    else:\n",
        "        plt.yscale('linear')\n",
        "        plt.xscale('linear')\n",
        "    ax = sns.histplot(x='Class', data=df, bins=10000)\n",
        "    plt.show()\n",
        "\n",
        "def CountByGenreGroupByHasCoverArt(trimmed_df, logarithmic=True):\n",
        "    sns.set(rc={'figure.figsize':(24, 8)})\n",
        "    sns.color_palette(\"rocket\", as_cmap=False)\n",
        "    sums = pd.DataFrame(columns=genres.columns)\n",
        "    sums.loc[0] = genres.loc[genres['HasCoverArt'] == True].sum()\n",
        "    sums.loc[1] = genres.loc[genres['HasCoverArt'] == False].sum()\n",
        "    sums['HasCoverArt'] = sums['HasCoverArt'].clip(upper=1)\n",
        "    sums = sums.melt(id_vars=['HasCoverArt'], var_name='Genre', value_name='Count')\n",
        "    if logarithmic == True:\n",
        "        plt.yscale('log')\n",
        "        plt.xscale('linear')\n",
        "    else:\n",
        "        plt.yscale('linear')\n",
        "        plt.xscale('linear')\n",
        "    plt.xticks(rotation=90)\n",
        "    ax = sns.barplot(x='Genre', y='Count', hue='HasCoverArt', data=sums, palette=sns.color_palette('rocket', n_colors=2))\n",
        "    for p in ax.patches:\n",
        "          ax.annotate('{:.0f}'.format(p.get_height()), (p.get_x()+0.15, p.get_height()+1))\n",
        "    plt.show()\n",
        "\n",
        "def CorrelationGenre(trimmed_df): # co-occurence would be better...\n",
        "    correlation_matrix = trimmed_df.corr(method='pearson').round(2)\n",
        "    sns.set(rc={'figure.figsize':(15, 15)})\n",
        "    sns.heatmap(data=correlation_matrix, annot=True)\n",
        "    plt.show()"
      ],
      "metadata": {
        "id": "OOp8yBGwJq1w"
      },
      "execution_count": null,
      "outputs": []
    },
    {
      "cell_type": "code",
      "source": [
        "GenreCountByHasCoverArt(df, True)\n",
        "GenreCountByHasCoverArt(df, False)"
      ],
      "metadata": {
        "id": "qNPumDtDkBTr"
      },
      "execution_count": null,
      "outputs": []
    },
    {
      "cell_type": "code",
      "source": [
        "ClassCount(df, True)\n",
        "ClassCount(df, False)"
      ],
      "metadata": {
        "id": "3pnuqLIBbg9b"
      },
      "execution_count": null,
      "outputs": []
    },
    {
      "cell_type": "code",
      "source": [
        "genres = df.copy().drop(columns=['Class', 'GroupID', 'ReleaseGUID', 'CoverArtID', 'ImageType', 'GenreCount'])\n",
        "CountByGenreGroupByHasCoverArt(genres, True)\n",
        "CountByGenreGroupByHasCoverArt(genres, False)"
      ],
      "metadata": {
        "id": "QA5QZ1yH5OIX"
      },
      "execution_count": null,
      "outputs": []
    },
    {
      "cell_type": "code",
      "source": [
        "CorrelationGenre(genres)"
      ],
      "metadata": {
        "id": "X4hatif7ZxNg"
      },
      "execution_count": null,
      "outputs": []
    },
    {
      "cell_type": "markdown",
      "source": [
        "## Cleanup"
      ],
      "metadata": {
        "id": "VeVKS_X4g5cQ"
      }
    },
    {
      "cell_type": "markdown",
      "source": [
        "Remove rows without genres and cover arts"
      ],
      "metadata": {
        "id": "ujLfu7UDI1jO"
      }
    },
    {
      "cell_type": "code",
      "source": [
        "df.drop(df.loc[df['HasCoverArt']==0].index, inplace=True)\n",
        "df.drop(df.loc[df['GenreCount']==0].index, inplace=True)\n",
        "df.head()"
      ],
      "metadata": {
        "id": "KFHxFb7oI0lu"
      },
      "execution_count": null,
      "outputs": []
    },
    {
      "cell_type": "code",
      "source": [
        "GenreCountByHasCoverArt(df, True)\n",
        "GenreCountByHasCoverArt(df, False)"
      ],
      "metadata": {
        "id": "T98j8R0zMipJ"
      },
      "execution_count": null,
      "outputs": []
    },
    {
      "cell_type": "code",
      "source": [
        "ClassCount(df, True)\n",
        "ClassCount(df, False)"
      ],
      "metadata": {
        "id": "3pRX_9vMgD9t"
      },
      "execution_count": null,
      "outputs": []
    },
    {
      "cell_type": "code",
      "source": [
        "genres = df.copy().drop(columns=['Class', 'GroupID', 'ReleaseGUID', 'CoverArtID', 'ImageType', 'GenreCount'])"
      ],
      "metadata": {
        "id": "G9LIbVhJMvhE"
      },
      "execution_count": null,
      "outputs": []
    },
    {
      "cell_type": "code",
      "source": [
        "CorrelationGenre(genres)"
      ],
      "metadata": {
        "id": "Du5okABnM9A8"
      },
      "execution_count": null,
      "outputs": []
    },
    {
      "cell_type": "markdown",
      "source": [
        "## Resampling"
      ],
      "metadata": {
        "id": "F0H48cUhg9yD"
      }
    },
    {
      "cell_type": "markdown",
      "source": [
        "Get a representative sample"
      ],
      "metadata": {
        "id": "h2t_WU4AJEIx"
      }
    }
  ]
}