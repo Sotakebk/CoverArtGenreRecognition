{
  "nbformat": 4,
  "nbformat_minor": 0,
  "metadata": {
    "colab": {
      "name": "Data cleanup and statistics",
      "provenance": [],
      "collapsed_sections": []
    },
    "kernelspec": {
      "name": "python3",
      "display_name": "Python 3"
    },
    "language_info": {
      "name": "python"
    }
  },
  "cells": [
    {
      "cell_type": "markdown",
      "source": [
        "# Data cleanup and statistics"
      ],
      "metadata": {
        "id": "jZutONeUgf8f"
      }
    },
    {
      "cell_type": "markdown",
      "source": [
        "## Setup"
      ],
      "metadata": {
        "id": "KG0Hf7lIgnrz"
      }
    },
    {
      "cell_type": "markdown",
      "source": [
        "Update dependencies"
      ],
      "metadata": {
        "id": "v2UBAffdpaAn"
      }
    },
    {
      "cell_type": "code",
      "source": [
        "try:\n",
        "  import google.colab\n",
        "  %pip install matplotlib --upgrade\n",
        "except:\n",
        "  print('not on Google colab')"
      ],
      "metadata": {
        "id": "yszzjOEHpXwo"
      },
      "execution_count": null,
      "outputs": []
    },
    {
      "cell_type": "markdown",
      "source": [
        "Load data"
      ],
      "metadata": {
        "id": "XSRDEngAUZId"
      }
    },
    {
      "cell_type": "code",
      "execution_count": null,
      "metadata": {
        "id": "VruiMoZFy13x"
      },
      "outputs": [],
      "source": [
        "df = object()\n",
        "is_colab = False\n",
        "import pandas as pd \n",
        "\n",
        "try:\n",
        "    from google.colab import drive\n",
        "    drive.mount('/content/gdrive')\n",
        "    df = pd.read_csv('gdrive/MyDrive/valid_data_list.csv')\n",
        "    is_colab = True\n",
        "except:\n",
        "    df = pd.read_csv('valid_data_list.csv');\n",
        "\n",
        "df['HasCoverArt'] = df.apply(lambda row: 1 if (row['CoverArtID'] != 0) else 0, axis=1)\n",
        "genres = ['African', 'Asian', 'AvantGardeOrExperimental', 'Blues', 'Classical', 'Country', 'EasyListening', 'Electronic', 'Folk', 'HipHop', 'Jazz', 'LatinOrCarribean', 'Metal', 'Pop', 'Punk', 'RnBOrSoul', 'Rock']\n",
        "df.head()"
      ]
    },
    {
      "cell_type": "markdown",
      "source": [
        "## Statistics"
      ],
      "metadata": {
        "id": "0ZgZLQNvgseL"
      }
    },
    {
      "cell_type": "markdown",
      "source": [
        "Explore the dataset"
      ],
      "metadata": {
        "id": "rWbeafltWKOj"
      }
    },
    {
      "cell_type": "code",
      "source": [
        "import numpy as np\n",
        "import matplotlib.pyplot as plt\n",
        "import seaborn as sns"
      ],
      "metadata": {
        "id": "ItbWW4gHKKJM"
      },
      "execution_count": null,
      "outputs": []
    },
    {
      "cell_type": "code",
      "source": [
        "def plot_genrecount(data, log=True, group_cover=False):\n",
        "    sns.set(rc={'figure.figsize':(16, 6)})\n",
        "    if log == True:\n",
        "        plt.yscale('log')\n",
        "        plt.xscale('linear')\n",
        "    else:\n",
        "        plt.yscale('linear')\n",
        "        plt.xscale('linear')\n",
        "    ax = object()\n",
        "    if group_cover == True:\n",
        "        ax = sns.countplot(x='GenreCount', data=data, hue='HasCoverArt')\n",
        "    else:\n",
        "        ax = sns.countplot(x='GenreCount', data=data)\n",
        "    for p in ax.patches:\n",
        "        ax.annotate('{:.0f}'.format(p.get_height()), (p.get_x()+0.15, p.get_height()+1))\n",
        "    plt.show()\n",
        "\n",
        "def plot_class(data, log=True):\n",
        "    sns.set(rc={'figure.figsize':(16, 6)})\n",
        "    if log == True:\n",
        "        plt.yscale('log')\n",
        "        plt.xscale('linear')\n",
        "    else:\n",
        "        plt.yscale('linear')\n",
        "        plt.xscale('linear')\n",
        "    counts = pd.DataFrame()\n",
        "    counts['Counts'] = data['Class'].value_counts()\n",
        "    counts.sort_values(by='Counts', inplace=True, ascending=False)\n",
        "    counts['Class'] = counts.index\n",
        "    counts.head()\n",
        "    sns.lineplot(x=counts.index, y=counts.Counts, legend=False) #uglier, but so much faster\n",
        "    plt.show()\n",
        "\n",
        "def plot_genre(data, log=True, mode='default'):\n",
        "    sns.set(rc={'figure.figsize':(16, 6)})\n",
        "    sums = pd.DataFrame(columns=data.columns)\n",
        "    if log == True:\n",
        "        plt.yscale('log')\n",
        "        plt.xscale('linear')\n",
        "    else:\n",
        "        plt.yscale('linear')\n",
        "        plt.xscale('linear')\n",
        "    plt.xticks(rotation=90)\n",
        "    ax = object()\n",
        "    if mode == 'cover':\n",
        "        sums.loc[0] = data.loc[data['HasCoverArt'] == True, genres + ['HasCoverArt']].sum()\n",
        "        sums.loc[1] = data.loc[data['HasCoverArt'] == False, genres + ['HasCoverArt']].sum()\n",
        "        sums['HasCoverArt'] = sums['HasCoverArt'].clip(upper=1)\n",
        "        sums = sums[genres + ['HasCoverArt']].melt(id_vars=['HasCoverArt'], var_name='Genre', value_name='Count')\n",
        "        ax = sns.barplot(x='Genre', y='Count', hue='HasCoverArt', data=sums)\n",
        "    elif mode == 'neg_count':\n",
        "        sums.loc[0] = samples[genres].sum()\n",
        "        sums.loc[1] = len(samples.index) - sums.loc[0][genres]\n",
        "        sums['Inverse'] = {0:0, 1:1}\n",
        "        sums = sums[genres + ['Inverse']].melt(id_vars=['Inverse'], var_name='Genre', value_name='Count')\n",
        "        ax = sns.barplot(x='Genre', y='Count', hue='Inverse', data=sums)\n",
        "    else:\n",
        "        sums.loc[0] = data[genres].sum()\n",
        "        sums = sums[genres].melt(var_name='Genre', value_name='Count')\n",
        "        ax = sns.barplot(x='Genre', y='Count', data=sums)\n",
        "    for p in ax.patches:\n",
        "          ax.annotate('{:.0f}'.format(p.get_height()), (p.get_x()+0.15, p.get_height()+1))\n",
        "    plt.show()\n",
        "\n",
        "def corr_matrix(data): # co-occurence would be better...\n",
        "    correlation_matrix = data[genres].corr(method='pearson').round(2)\n",
        "    sns.set(rc={'figure.figsize':(15, 15)})\n",
        "    sns.heatmap(data=correlation_matrix, annot=True)\n",
        "    plt.show()"
      ],
      "metadata": {
        "id": "OOp8yBGwJq1w"
      },
      "execution_count": null,
      "outputs": []
    },
    {
      "cell_type": "code",
      "source": [
        "plot_genrecount(df, log = True, group_cover = True)\n",
        "plot_genrecount(df, log = False, group_cover = True)"
      ],
      "metadata": {
        "id": "qNPumDtDkBTr"
      },
      "execution_count": null,
      "outputs": []
    },
    {
      "cell_type": "code",
      "source": [
        "plot_genre(df, log=True, mode='cover')\n",
        "plot_genre(df, log=False, mode='cover')"
      ],
      "metadata": {
        "id": "f2w1POLmYWpa"
      },
      "execution_count": null,
      "outputs": []
    },
    {
      "cell_type": "code",
      "source": [
        "plot_class(df, log=True)\n",
        "plot_class(df, log=False)"
      ],
      "metadata": {
        "id": "3pnuqLIBbg9b"
      },
      "execution_count": null,
      "outputs": []
    },
    {
      "cell_type": "code",
      "source": [
        "corr_matrix(df)"
      ],
      "metadata": {
        "id": "X4hatif7ZxNg"
      },
      "execution_count": null,
      "outputs": []
    },
    {
      "cell_type": "markdown",
      "source": [
        "## Cleanup"
      ],
      "metadata": {
        "id": "VeVKS_X4g5cQ"
      }
    },
    {
      "cell_type": "markdown",
      "source": [
        "Remove rows without genres and cover arts"
      ],
      "metadata": {
        "id": "ujLfu7UDI1jO"
      }
    },
    {
      "cell_type": "code",
      "source": [
        "cldf = df.copy(deep = True)\n",
        "cldf.drop(cldf.loc[cldf['HasCoverArt']==0].index, inplace=True)\n",
        "cldf.drop(cldf.loc[cldf['GenreCount']==0].index, inplace=True)\n",
        "cldf.head()"
      ],
      "metadata": {
        "id": "KFHxFb7oI0lu"
      },
      "execution_count": null,
      "outputs": []
    },
    {
      "cell_type": "code",
      "source": [
        "plot_genrecount(cldf, log = True, group_cover = False)\n",
        "plot_genrecount(cldf, log = False, group_cover = False)"
      ],
      "metadata": {
        "id": "T98j8R0zMipJ"
      },
      "execution_count": null,
      "outputs": []
    },
    {
      "cell_type": "code",
      "source": [
        "plot_class(cldf, log=True)\n",
        "plot_class(cldf, log=False)"
      ],
      "metadata": {
        "id": "3pRX_9vMgD9t"
      },
      "execution_count": null,
      "outputs": []
    },
    {
      "cell_type": "code",
      "source": [
        "corr_matrix(cldf)"
      ],
      "metadata": {
        "id": "Du5okABnM9A8"
      },
      "execution_count": null,
      "outputs": []
    },
    {
      "cell_type": "markdown",
      "source": [
        "## Resampling"
      ],
      "metadata": {
        "id": "F0H48cUhg9yD"
      }
    },
    {
      "cell_type": "markdown",
      "source": [
        "Get a representative sample\n",
        "\n",
        "This is not the best approach, but it's simple and it works... ¯\\\\_(ツ)_/¯"
      ],
      "metadata": {
        "id": "h2t_WU4AJEIx"
      }
    },
    {
      "cell_type": "code",
      "source": [
        "samples = pd.DataFrame(columns = df.columns)\n",
        "\n",
        "for genre in genres:\n",
        "    genre_samples = cldf[cldf[genre] == 1].sample(frac = 1).reset_index(drop = True)\n",
        "    samples = pd.concat([samples, genre_samples.iloc[:4000]])\n",
        "\n",
        "samples.drop_duplicates(subset=[\"CoverArtID\"], keep='first', inplace = True)\n",
        "\n",
        "samples.head()"
      ],
      "metadata": {
        "id": "IWsrFFhCZK3c"
      },
      "execution_count": null,
      "outputs": []
    },
    {
      "cell_type": "code",
      "source": [
        "plot_genrecount(samples, log = True, group_cover = False)\n",
        "plot_genrecount(samples, log = False, group_cover = False)"
      ],
      "metadata": {
        "id": "JNtxExdiaI3k"
      },
      "execution_count": null,
      "outputs": []
    },
    {
      "cell_type": "code",
      "source": [
        "plot_genre(df, log=True, mode='neg_count')\n",
        "plot_genre(df, log=False, mode='neg_count')"
      ],
      "metadata": {
        "id": "GEpErHrUaQnc"
      },
      "execution_count": null,
      "outputs": []
    },
    {
      "cell_type": "code",
      "source": [
        "is_colab = False\n",
        "\n",
        "if is_colab:\n",
        "    samples.drop(columns=['HasCoverArt']).to_csv('gdrive/MyDrive/output.csv', sep=',')\n",
        "else:\n",
        "    samples.drop(columns=['HasCoverArt']).to_csv('output.csv', sep=',')"
      ],
      "metadata": {
        "id": "NKxP-XMDZ4Ub"
      },
      "execution_count": null,
      "outputs": []
    }
  ]
}