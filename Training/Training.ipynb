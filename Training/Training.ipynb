{
  "nbformat": 4,
  "nbformat_minor": 0,
  "metadata": {
    "colab": {
      "name": "Training",
      "provenance": [],
      "collapsed_sections": [],
      "machine_shape": "hm"
    },
    "kernelspec": {
      "name": "python3",
      "display_name": "Python 3"
    },
    "language_info": {
      "name": "python"
    },
    "accelerator": "TPU"
  },
  "cells": [
    {
      "cell_type": "code",
      "execution_count": null,
      "metadata": {
        "id": "YtjGWRyxObsR"
      },
      "outputs": [],
      "source": [
        "import os\n",
        "import numpy as np\n",
        "import tensorflow as tf"
      ]
    },
    {
      "cell_type": "code",
      "source": [
        "# change paths and copy data if on google colab\n",
        "is_colab = False\n",
        "\n",
        "datapath = 'training_data.npz'\n",
        "try:\n",
        "    from google.colab import drive\n",
        "    drive.mount('/content/gdrive')\n",
        "    datapath = '/content/gdrive/MyDrive/' + datapath\n",
        "    is_colab = True\n",
        "except:\n",
        "    print('Not on Google Colab!')\n",
        "\n",
        "data = np.load(datapath)\n",
        "X_data = data['X']\n",
        "Y_data = data['Y']"
      ],
      "metadata": {
        "id": "vdT0R_WDOfjr"
      },
      "execution_count": null,
      "outputs": []
    },
    {
      "cell_type": "code",
      "source": [
        "length = X_data.shape[0]\n",
        "test_length = int(length*0.1)\n",
        "indices = np.arange(start=0, stop=length)\n",
        "np.random.shuffle(indices)\n",
        "Y_train = np.take(Y_data, indices[:-test_length], axis=0)\n",
        "Y_test = np.take(Y_data, indices[-test_length:], axis=0)\n",
        "X_train = np.take(X_data, indices[:-test_length], axis=0)\n",
        "X_test = np.take(X_data, indices[-test_length:], axis=0)"
      ],
      "metadata": {
        "id": "pfV3wsWcRSPc"
      },
      "execution_count": null,
      "outputs": []
    },
    {
      "cell_type": "code",
      "source": [
        ""
      ],
      "metadata": {
        "id": "3iavNrdDEj3r"
      },
      "execution_count": null,
      "outputs": []
    },
    {
      "cell_type": "code",
      "source": [
        "import tensorflow as tf\n",
        "from tensorflow.python import keras as keras\n",
        "from keras import activations\n",
        "from keras import models\n",
        "from keras import layers\n",
        "from keras.applications.inception_v3 import InceptionV3\n",
        "\n",
        "!wget --no-check-certificate https://storage.googleapis.com/mledu-datasets/inception_v3_weights_tf_dim_ordering_tf_kernels_notop.h5 -O /tmp/inception_v3_weights_tf_dim_ordering_tf_kernels_notop.h5\n",
        "local_weights_file = '/tmp/inception_v3_weights_tf_dim_ordering_tf_kernels_notop.h5'\n",
        "inception = InceptionV3(input_shape=(150, 150, 3), include_top=False, weights=None)\n",
        "inception.load_weights(local_weights_file)\n",
        "for layer in inception.layers:\n",
        "  layer.trainable = False\n",
        "\n",
        "inner_model = models.Functional(inputs=inception.layers[1].input, outputs=inception.layers[288].output)\n",
        "\n",
        "model = models.Sequential()\n",
        "model.add(layers.Rescaling(scale=2./255, offset=-1, input_shape=(150, 150, 3)))\n",
        "model.add(layers.RandomFlip(mode='horizontal'))\n",
        "model.add(layers.RandomRotation(factor=0.06, fill_mode='reflect', interpolation='bilinear'))\n",
        "model.add(layers.RandomTranslation(height_factor=(-0.1, 0.1), width_factor=(-0.1, 0.1), fill_mode='reflect', interpolation='bilinear'))\n",
        "model.add(layers.RandomZoom(height_factor=(-0.1, 0.1), width_factor=(-0.1, 0.1), fill_mode='reflect', interpolation='bilinear'))\n",
        "model.add(inner_model)\n",
        "model.add(layers.Flatten())\n",
        "model.add(layers.Dense(1024, activation='relu'))\n",
        "model.add(layers.Dense(256, activation='relu'))\n",
        "model.add(layers.Dense(64, activation='sigmoid'))\n",
        "model.add(layers.Dense(17, activation='sigmoid'))\n",
        "\n",
        "model.compile(optimizer='adam', loss='binary_crossentropy', metrics=['accuracy'])\n",
        "model.summary()"
      ],
      "metadata": {
        "id": "GEAun9fUEc-Z"
      },
      "execution_count": null,
      "outputs": []
    },
    {
      "cell_type": "code",
      "source": [
        "import pandas as pd\n",
        "import matplotlib.pyplot as plt\n",
        "\n",
        "history = model.fit(X_train, Y_train, epochs=30, batch_size=32, validation_data=(X_test, Y_test))\n",
        "pd.DataFrame(history.history).plot(figsize=(8,5))\n",
        "plt.show()"
      ],
      "metadata": {
        "id": "aoSErQJYS4oq"
      },
      "execution_count": null,
      "outputs": []
    },
    {
      "cell_type": "code",
      "source": [
        "model = models.Sequential()\n",
        "model.add(layers.Rescaling(scale=1./255, input_shape=(150, 150, 3)))\n",
        "model.add(layers.RandomFlip(mode='horizontal'))\n",
        "model.add(layers.RandomRotation(factor=0.06, fill_mode='reflect', interpolation='bilinear'))\n",
        "model.add(layers.RandomTranslation(height_factor=(-0.1, 0.1), width_factor=(-0.1, 0.1), fill_mode='reflect', interpolation='bilinear'))\n",
        "model.add(layers.RandomZoom(height_factor=(-0.1, 0.1), width_factor=(-0.1, 0.1), fill_mode='reflect', interpolation='bilinear'))\n",
        "model.add(layers.convolutional.Conv2D(filters=16, kernel_size=(5, 5), activation=\"relu\", input_shape=(150,150,3)))\n",
        "model.add(layers.MaxPooling2D(pool_size=(2, 2)))\n",
        "model.add(layers.Dropout(0.25))\n",
        "model.add(layers.convolutional.Conv2D(filters=32, kernel_size=(5, 5), activation='relu'))\n",
        "model.add(layers.MaxPooling2D(pool_size=(2, 2)))\n",
        "model.add(layers.Dropout(0.25))\n",
        "model.add(layers.convolutional.Conv2D(filters=64, kernel_size=(5, 5), activation=\"relu\"))\n",
        "model.add(layers.MaxPooling2D(pool_size=(2, 2)))\n",
        "model.add(layers.Dropout(0.25))\n",
        "model.add(layers.convolutional.Conv2D(filters=64, kernel_size=(5, 5), activation='relu'))\n",
        "model.add(layers.MaxPooling2D(pool_size=(2, 2)))\n",
        "model.add(layers.Dropout(0.25))\n",
        "model.add(layers.Flatten())\n",
        "model.add(layers.Dense(128, activation='relu'))\n",
        "model.add(layers.Dropout(0.5))\n",
        "model.add(layers.Dense(64, activation='relu'))\n",
        "model.add(layers.Dropout(0.5))\n",
        "model.add(layers.Dense(17, activation='sigmoid'))\n",
        "model.compile(optimizer='adam', loss='binary_crossentropy', metrics=['accuracy'])\n",
        "model.summary()"
      ],
      "metadata": {
        "id": "JBug905jvwRR"
      },
      "execution_count": null,
      "outputs": []
    },
    {
      "cell_type": "code",
      "source": [
        "history = model.fit(X_train, Y_train, epochs=30, batch_size=32, validation_data=(X_test, Y_test))\n",
        "pd.DataFrame(history.history).plot(figsize=(8,5))\n",
        "plt.show()"
      ],
      "metadata": {
        "id": "962KJaifz_kU"
      },
      "execution_count": null,
      "outputs": []
    }
  ]
}