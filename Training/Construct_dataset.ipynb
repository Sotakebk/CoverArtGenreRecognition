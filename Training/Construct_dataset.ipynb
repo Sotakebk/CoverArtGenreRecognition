{
  "nbformat": 4,
  "nbformat_minor": 0,
  "metadata": {
    "colab": {
      "name": "Construct dataset",
      "provenance": [],
      "collapsed_sections": []
    },
    "kernelspec": {
      "name": "python3",
      "display_name": "Python 3"
    },
    "language_info": {
      "name": "python"
    }
  },
  "cells": [
    {
      "cell_type": "code",
      "source": [
        "import os\n",
        "import pandas as pd\n",
        "from PIL import Image as pimg\n",
        "import numpy as np\n",
        "pimg.LOAD_TRUNCATED_IMAGES = True"
      ],
      "metadata": {
        "id": "Xhp1OwtJdYIW"
      },
      "execution_count": null,
      "outputs": []
    },
    {
      "cell_type": "code",
      "execution_count": null,
      "metadata": {
        "id": "ndTAaF5HaIBD"
      },
      "outputs": [],
      "source": [
        "# change paths and copy data if on google colab\n",
        "is_colab = False\n",
        "cover_path = 'CoverArts/'\n",
        "df_path = 'output.csv'\n",
        "try:\n",
        "    from google.colab import drive\n",
        "    drive.mount('/content/gdrive')\n",
        "    %cp '/content/gdrive/MyDrive/CoverArts/' '/content/CoverArts/' -R\n",
        "    cover_path = '/content/CoverArts/'\n",
        "    df_path = '/content/gdrive/MyDrive/output.csv'\n",
        "    is_colab = True\n",
        "except:\n",
        "    print('Not on Google Colab!')\n",
        "\n",
        "if not os.path.isdir(cover_path):\n",
        "    raise Exception(f'Expected directory {cover_path}')\n",
        "\n",
        "if not os.path.isfile(df_path):\n",
        "    raise Exception(f'Expected file {df_path}')"
      ]
    },
    {
      "cell_type": "code",
      "source": [
        "import pandas as pd\n",
        "\n",
        "df = pd.read_csv(df_path);\n",
        "df.head()"
      ],
      "metadata": {
        "id": "uyUv96M0dAvS"
      },
      "execution_count": null,
      "outputs": []
    },
    {
      "cell_type": "code",
      "source": [
        "file_names = os.listdir('/content/CoverArts/')\n",
        "print(f'Found {len(file_names)} files in /content/CoverArts/')\n",
        "\n",
        "dictionary = dict()\n",
        "fails = 0\n",
        "for i, filename in enumerate(file_names):\n",
        "    try:\n",
        "        if not filename[-4:] == '.png':\n",
        "            raise Exception('Invalid file extension')\n",
        "        number = int(filename[:-4])\n",
        "        data = pimg.open(f'/content/CoverArts/{filename}').convert('RGB')\n",
        "        width, height = data.size\n",
        "        if not width == 150 or not height == 150:\n",
        "            raise Exception('Invalid size of image')\n",
        "        data = np.array(data)\n",
        "        dictionary[number] = data\n",
        "    except Exception as e:\n",
        "        print(f'Failed to load image {filename}, i: {i}, exception: {e}')\n",
        "        fails = fails + 1\n",
        "print(f'Failed to load {fails} images')"
      ],
      "metadata": {
        "id": "U5JJk3dtcXVu"
      },
      "execution_count": null,
      "outputs": []
    },
    {
      "cell_type": "code",
      "source": [
        "set_file_names = set(file_names)\n",
        "count = len(df.index)\n",
        "df.drop(df[~df['CoverArtID'].isin(dictionary)].index, inplace=True)\n",
        "count = count - len(df.index)\n",
        "df.sort_values(by='CoverArtID', inplace=True)\n",
        "print(f'{count} cover arts missing!')\n",
        "if not len(df.index) == len(dictionary):\n",
        "    raise Exception('Count of images loaded is different from expected value')\n",
        "\n",
        "df.head()"
      ],
      "metadata": {
        "id": "aGYSBl-YgL9G"
      },
      "execution_count": null,
      "outputs": []
    },
    {
      "cell_type": "code",
      "source": [
        "Y_data = df.drop(columns=[ 'GroupID', 'ReleaseGUID','CoverArtID', 'ImageType', 'GenreCount', 'Class']).to_numpy()\n",
        "print(Y_data.shape)\n",
        "print(Y_data[:10])"
      ],
      "metadata": {
        "id": "Iwl08RBLA4OS"
      },
      "execution_count": null,
      "outputs": []
    },
    {
      "cell_type": "code",
      "source": [
        "elements = list(dictionary.items())\n",
        "\n",
        "elements.sort(key=lambda x: x[0])\n",
        "print(list(element[0] for element in elements[:50]))\n",
        "X_data = np.asarray(list(element[1] for element in elements))\n",
        "print(X_data.shape)"
      ],
      "metadata": {
        "id": "jMrhF8kdlNjf"
      },
      "execution_count": null,
      "outputs": []
    },
    {
      "cell_type": "code",
      "source": [
        "savepath = 'training_data.npz'\n",
        "if is_colab:\n",
        "    savepath = '/content/gdrive/MyDrive/' + savepath\n",
        "\n",
        "np.savez_compressed(savepath, X=X_data, Y=Y_data)"
      ],
      "metadata": {
        "id": "LdTbUBhzHgKZ"
      },
      "execution_count": null,
      "outputs": []
    }
  ]
}